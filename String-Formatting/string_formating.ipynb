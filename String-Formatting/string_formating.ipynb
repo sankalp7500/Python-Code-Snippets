{
  "metadata": {
    "kernelspec": {
      "name": "python",
      "display_name": "Python (Pyodide)",
      "language": "python"
    },
    "language_info": {
      "codemirror_mode": {
        "name": "python",
        "version": 3
      },
      "file_extension": ".py",
      "mimetype": "text/x-python",
      "name": "python",
      "nbconvert_exporter": "python",
      "pygments_lexer": "ipython3",
      "version": "3.8"
    }
  },
  "nbformat_minor": 4,
  "nbformat": 4,
  "cells": [
    {
      "cell_type": "markdown",
      "source": "String formating helps you to replace keys in a list",
      "metadata": {}
    },
    {
      "cell_type": "code",
      "source": "person = {'name': 'Jenn', 'age': 23}",
      "metadata": {
        "trusted": true
      },
      "outputs": [],
      "execution_count": 4
    },
    {
      "cell_type": "code",
      "source": "sentence = 'My name is ' + person['name'] + ' and I am ' + str(person['age']) + ' years old.'\nprint(sentence)",
      "metadata": {
        "trusted": true
      },
      "outputs": [
        {
          "name": "stdout",
          "text": "My name is Jenn and I am 23 years old.\n",
          "output_type": "stream"
        }
      ],
      "execution_count": 5
    },
    {
      "cell_type": "code",
      "source": "sentence = 'My name is {} and I am {} years old.'.format(person['name'], person['age'])\nprint(sentence)",
      "metadata": {
        "trusted": true
      },
      "outputs": [
        {
          "name": "stdout",
          "text": "My name is Jenn and I am 23 years old.\n",
          "output_type": "stream"
        }
      ],
      "execution_count": 6
    },
    {
      "cell_type": "code",
      "source": "sentence = 'My name is {0} and I am {1} years old.'.format(person['name'], person['age'])\nprint(sentence)",
      "metadata": {
        "trusted": true
      },
      "outputs": [
        {
          "name": "stdout",
          "text": "My name is Jenn and I am 23 years old.\n",
          "output_type": "stream"
        }
      ],
      "execution_count": 7
    },
    {
      "cell_type": "code",
      "source": "class Person():\n\n    def __init__(self, name, age):\n        self.name = name\n        self.age = age\n\np1 = Person('Jack', '33')\n\nsentence = 'My name is {0.name} and I am {0.age} years old.'.format(p1)\nprint(sentence)",
      "metadata": {
        "trusted": true
      },
      "outputs": [
        {
          "name": "stdout",
          "text": "My name is Jack and I am 33 years old.\n",
          "output_type": "stream"
        }
      ],
      "execution_count": 8
    },
    {
      "cell_type": "code",
      "source": "sentence = 'My name is {name} and I am {age} years old.'.format(**person)\nprint(sentence)",
      "metadata": {
        "trusted": true
      },
      "outputs": [
        {
          "name": "stdout",
          "text": "My name is Jenn and I am 23 years old.\n",
          "output_type": "stream"
        }
      ],
      "execution_count": 9
    },
    {
      "cell_type": "code",
      "source": "import datetime\n\nmy_date = datetime.datetime(2016, 9, 24, 12, 30, 45)\nprint(my_date)",
      "metadata": {
        "trusted": true
      },
      "outputs": [
        {
          "name": "stdout",
          "text": "2016-09-24 12:30:45\n",
          "output_type": "stream"
        }
      ],
      "execution_count": 14
    },
    {
      "cell_type": "code",
      "source": "sentence = '{:%B %d, %Y}'.format(my_date)\nprint(sentence)",
      "metadata": {
        "trusted": true
      },
      "outputs": [
        {
          "name": "stdout",
          "text": "September 24, 2016\n",
          "output_type": "stream"
        }
      ],
      "execution_count": 18
    },
    {
      "cell_type": "code",
      "source": "",
      "metadata": {
        "trusted": true
      },
      "outputs": [],
      "execution_count": null
    }
  ]
}